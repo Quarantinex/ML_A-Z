{
 "cells": [
  {
   "cell_type": "markdown",
   "metadata": {},
   "source": [
    "# Random Selection"
   ]
  },
  {
   "cell_type": "markdown",
   "metadata": {},
   "source": [
    "### Importing the libraries"
   ]
  },
  {
   "cell_type": "code",
   "execution_count": 20,
   "metadata": {},
   "outputs": [],
   "source": [
    "import pandas as pd\n",
    "import numpy as np\n",
    "import matplotlib.pyplot as plt\n",
    "import math"
   ]
  },
  {
   "cell_type": "markdown",
   "metadata": {},
   "source": [
    "### Importing the dataset"
   ]
  },
  {
   "cell_type": "code",
   "execution_count": 21,
   "metadata": {
    "collapsed": true
   },
   "outputs": [
    {
     "name": "stdout",
     "output_type": "stream",
     "text": [
      "      Ad 1  Ad 2  Ad 3  Ad 4  Ad 5  Ad 6  Ad 7  Ad 8  Ad 9  Ad 10\n",
      "0        1     0     0     0     1     0     0     0     1      0\n",
      "1        0     0     0     0     0     0     0     0     1      0\n",
      "2        0     0     0     0     0     0     0     0     0      0\n",
      "3        0     1     0     0     0     0     0     1     0      0\n",
      "4        0     0     0     0     0     0     0     0     0      0\n",
      "5        1     1     0     0     0     0     0     0     0      0\n",
      "6        0     0     0     1     0     0     0     0     0      0\n",
      "7        1     1     0     0     1     0     0     0     0      0\n",
      "8        0     0     0     0     0     0     0     0     0      0\n",
      "9        0     0     1     0     0     0     0     0     0      0\n",
      "10       0     0     0     0     0     0     0     0     0      0\n",
      "11       0     0     0     0     0     0     0     0     0      0\n",
      "12       0     0     0     1     0     0     0     0     0      0\n",
      "13       0     0     0     0     0     0     0     0     1      0\n",
      "14       0     0     0     0     0     0     0     1     0      0\n",
      "15       0     0     0     0     1     0     0     1     0      0\n",
      "16       0     0     0     0     0     0     0     0     0      0\n",
      "17       0     0     0     0     0     0     0     0     0      0\n",
      "18       0     0     0     0     0     0     0     1     0      0\n",
      "19       0     0     0     0     0     0     0     0     1      0\n",
      "20       0     1     0     0     0     0     0     1     0      0\n",
      "21       0     0     0     0     1     0     0     0     0      1\n",
      "22       0     0     0     0     0     0     0     0     0      0\n",
      "23       0     0     0     0     0     0     0     1     1      0\n",
      "24       0     0     0     0     1     0     1     1     0      0\n",
      "25       0     0     0     0     0     0     0     0     0      0\n",
      "26       0     1     0     0     1     0     0     1     0      0\n",
      "27       0     1     0     1     0     0     0     0     0      0\n",
      "28       0     0     0     0     0     0     0     0     0      0\n",
      "29       0     0     0     0     1     0     0     1     1      0\n",
      "...    ...   ...   ...   ...   ...   ...   ...   ...   ...    ...\n",
      "9970     0     0     0     0     0     0     0     0     0      0\n",
      "9971     0     0     0     0     0     0     0     1     0      0\n",
      "9972     0     0     0     0     0     0     0     0     0      0\n",
      "9973     0     0     0     0     1     0     0     0     0      0\n",
      "9974     0     0     0     0     0     0     0     1     1      0\n",
      "9975     0     0     0     0     1     0     1     0     1      0\n",
      "9976     0     0     0     0     1     0     0     1     0      0\n",
      "9977     0     1     0     0     1     0     1     0     0      0\n",
      "9978     0     0     0     0     1     0     0     0     0      0\n",
      "9979     0     0     1     0     0     0     1     0     0      0\n",
      "9980     1     1     0     1     0     0     0     0     0      0\n",
      "9981     0     0     0     0     0     0     0     0     0      0\n",
      "9982     0     1     0     0     0     0     0     0     0      0\n",
      "9983     0     0     0     0     1     0     0     1     1      0\n",
      "9984     0     0     0     0     1     0     0     0     0      0\n",
      "9985     0     0     0     0     0     0     0     1     0      0\n",
      "9986     0     0     0     0     1     0     0     0     0      0\n",
      "9987     0     0     0     0     1     0     0     0     0      0\n",
      "9988     1     0     0     0     1     0     0     0     0      0\n",
      "9989     0     0     0     0     0     0     0     0     0      0\n",
      "9990     0     0     0     1     0     0     0     0     0      0\n",
      "9991     0     1     0     1     1     0     1     0     0      0\n",
      "9992     0     0     0     1     0     0     1     0     0      0\n",
      "9993     0     0     0     0     1     0     0     0     1      0\n",
      "9994     0     0     1     0     0     0     0     0     1      0\n",
      "9995     0     0     1     0     0     0     0     1     0      0\n",
      "9996     0     0     0     0     0     0     0     0     0      0\n",
      "9997     0     0     0     0     0     0     0     0     0      0\n",
      "9998     1     0     0     0     0     0     0     1     0      0\n",
      "9999     0     1     0     0     0     0     0     0     0      0\n",
      "\n",
      "[10000 rows x 10 columns]\n"
     ]
    }
   ],
   "source": [
    "dataset = pd.read_csv('Ads_CTR_Optimisation.csv')\n",
    "print(dataset)"
   ]
  },
  {
   "cell_type": "markdown",
   "metadata": {},
   "source": [
    "### Implementing Random Selection"
   ]
  },
  {
   "cell_type": "code",
   "execution_count": 22,
   "metadata": {},
   "outputs": [],
   "source": [
    "import random\n",
    "N = 10000\n",
    "d = 10\n",
    "ads_selected = []\n",
    "total_reward = 0\n",
    "for n in range(0,N):\n",
    "    ad = random.randrange(d)\n",
    "    ads_selected.append(ad)\n",
    "    reward = dataset.values[n, ad]\n",
    "    total_reward = total_reward + reward"
   ]
  },
  {
   "cell_type": "code",
   "execution_count": 23,
   "metadata": {},
   "outputs": [
    {
     "name": "stdout",
     "output_type": "stream",
     "text": [
      "1233\n"
     ]
    }
   ],
   "source": [
    "print(total_reward)"
   ]
  },
  {
   "cell_type": "markdown",
   "metadata": {},
   "source": [
    "### Visualising the result - Histogram"
   ]
  },
  {
   "cell_type": "code",
   "execution_count": 5,
   "metadata": {
    "collapsed": true
   },
   "outputs": [
    {
     "data": {
      "image/png": "[encoded data removed]",
      "text/plain": [
       "<Figure size 432x288 with 1 Axes>"
      ]
     },
     "metadata": {
      "needs_background": "light"
     },
     "output_type": "display_data"
    }
   ],
   "source": [
    "plt.hist(ads_selected)\n",
    "plt.title('Histogram of ads selections')\n",
    "plt.xlabel('Ads')\n",
    "plt.ylabel('Number of times such ad was selected')\n",
    "plt.show()"
   ]
  },
  {
   "cell_type": "markdown",
   "metadata": {},
   "source": [
    "# Upper Confidence Bound"
   ]
  },
  {
   "cell_type": "markdown",
   "metadata": {},
   "source": [
    "### Implementing UCB"
   ]
  },
  {
   "cell_type": "code",
   "execution_count": 24,
   "metadata": {},
   "outputs": [],
   "source": [
    "ads_select = []\n",
    "numbers_of_selections =  [0] * d\n",
    "sums_of_rewards = [0] * d\n",
    "total_rewards = 0\n",
    "for n in range(0, N):\n",
    "    ad = 0\n",
    "    max_upper_bound = 0\n",
    "    for i in range(0, d):\n",
    "        if (numbers_of_selections[i] > 0):\n",
    "            average_reward = sums_of_rewards[i] / numbers_of_selections[i]\n",
    "            delta_i = math.sqrt(3/2 * math.log(n+1) / numbers_of_selections[i])\n",
    "            upper_bound = average_reward + delta_i\n",
    "        else:\n",
    "            upper_bound = 1e400\n",
    "        if (upper_bound > max_upper_bound):\n",
    "            max_upper_bound = upper_bound\n",
    "            ad = i\n",
    "    ads_select.append(ad)\n",
    "    numbers_of_selections[ad] = numbers_of_selections[ad] + 1\n",
    "    rewards = dataset.values[n, ad]\n",
    "    sums_of_rewards[ad] = sums_of_rewards[ad] + rewards\n",
    "    total_rewards = total_rewards + rewards"
   ]
  },
  {
   "cell_type": "code",
   "execution_count": 25,
   "metadata": {},
   "outputs": [
    {
     "name": "stdout",
     "output_type": "stream",
     "text": [
      "2178\n"
     ]
    }
   ],
   "source": [
    "print(total_rewards)"
   ]
  },
  {
   "cell_type": "markdown",
   "metadata": {},
   "source": [
    "### visualising the results"
   ]
  },
  {
   "cell_type": "code",
   "execution_count": 26,
   "metadata": {},
   "outputs": [
    {
     "data": {
      "image/png": "[encoded data removed]",
      "text/plain": [
       "<Figure size 432x288 with 1 Axes>"
      ]
     },
     "metadata": {
      "needs_background": "light"
     },
     "output_type": "display_data"
    }
   ],
   "source": [
    "plt.hist(ads_select)\n",
    "plt.title('Histogram of ads selections')\n",
    "plt.xlabel('Ads')\n",
    "plt.ylabel('Number of times such ad was selected')\n",
    "plt.show()"
   ]
  }
 ],
 "metadata": {
  "kernelspec": {
   "display_name": "Python 3",
   "language": "python",
   "name": "python3"
  },
  "language_info": {
   "codemirror_mode": {
    "name": "ipython",
    "version": 3
   },
   "file_extension": ".py",
   "mimetype": "text/x-python",
   "name": "python",
   "nbconvert_exporter": "python",
   "pygments_lexer": "ipython3",
   "version": "3.7.3"
  }
 },
 "nbformat": 4,
 "nbformat_minor": 2
}
