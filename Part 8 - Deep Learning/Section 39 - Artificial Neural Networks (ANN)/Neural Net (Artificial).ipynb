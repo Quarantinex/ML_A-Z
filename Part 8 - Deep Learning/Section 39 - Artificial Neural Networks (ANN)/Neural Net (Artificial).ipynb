{
 "cells": [
  {
   "cell_type": "code",
   "execution_count": 1,
   "metadata": {},
   "outputs": [],
   "source": [
    "import matplotlib.pyplot as plt\n",
    "import pandas as pd\n",
    "import numpy as np"
   ]
  },
  {
   "cell_type": "code",
   "execution_count": 2,
   "metadata": {},
   "outputs": [],
   "source": [
    "dataset = pd.read_csv('Churn_Modelling.csv')"
   ]
  },
  {
   "cell_type": "code",
   "execution_count": 7,
   "metadata": {},
   "outputs": [],
   "source": [
    "X = dataset.iloc[:, 3:13].values\n",
    "Y = dataset.iloc[:, 13].values"
   ]
  },
  {
   "cell_type": "code",
   "execution_count": 8,
   "metadata": {},
   "outputs": [
    {
     "name": "stdout",
     "output_type": "stream",
     "text": [
      "[[619 'France' 'Female' ... 1 1 101348.88]\n",
      " [608 'Spain' 'Female' ... 0 1 112542.58]\n",
      " [502 'France' 'Female' ... 1 0 113931.57]\n",
      " ...\n",
      " [709 'France' 'Female' ... 0 1 42085.58]\n",
      " [772 'Germany' 'Male' ... 1 0 92888.52]\n",
      " [792 'France' 'Female' ... 1 0 38190.78]]\n"
     ]
    }
   ],
   "source": [
    "print(X)"
   ]
  },
  {
   "cell_type": "code",
   "execution_count": 10,
   "metadata": {},
   "outputs": [
    {
     "name": "stdout",
     "output_type": "stream",
     "text": [
      "[1 0 1 ... 1 1 0]\n"
     ]
    }
   ],
   "source": [
    "print(Y)"
   ]
  },
  {
   "cell_type": "code",
   "execution_count": 11,
   "metadata": {},
   "outputs": [],
   "source": [
    "from sklearn.preprocessing import LabelEncoder, OneHotEncoder"
   ]
  },
  {
   "cell_type": "code",
   "execution_count": 13,
   "metadata": {},
   "outputs": [],
   "source": [
    "labelencoder_X_1 = LabelEncoder()"
   ]
  },
  {
   "cell_type": "code",
   "execution_count": 14,
   "metadata": {},
   "outputs": [],
   "source": [
    "X[:, 1] = labelencoder_X_1.fit_transform(X[:, 1])"
   ]
  },
  {
   "cell_type": "code",
   "execution_count": 16,
   "metadata": {},
   "outputs": [],
   "source": [
    "labelencoder_X_2 = LabelEncoder()"
   ]
  },
  {
   "cell_type": "code",
   "execution_count": 18,
   "metadata": {},
   "outputs": [],
   "source": [
    "X[:, 2] = labelencoder_X_2.fit_transform(X[:, 2])"
   ]
  },
  {
   "cell_type": "code",
   "execution_count": 19,
   "metadata": {},
   "outputs": [],
   "source": [
    "onehotencoder = OneHotEncoder(categorical_features=[1])"
   ]
  },
  {
   "cell_type": "code",
   "execution_count": 20,
   "metadata": {},
   "outputs": [
    {
     "name": "stderr",
     "output_type": "stream",
     "text": [
      "/home/quarantinex/anaconda3/lib/python3.6/site-packages/sklearn/preprocessing/_encoders.py:415: FutureWarning: The handling of integer data will change in version 0.22. Currently, the categories are determined based on the range [0, max(values)], while in the future they will be determined based on the unique values.\n",
      "If you want the future behaviour and silence this warning, you can specify \"categories='auto'\".\n",
      "In case you used a LabelEncoder before this OneHotEncoder to convert the categories to integers, then you can now use the OneHotEncoder directly.\n",
      "  warnings.warn(msg, FutureWarning)\n",
      "/home/quarantinex/anaconda3/lib/python3.6/site-packages/sklearn/preprocessing/_encoders.py:451: DeprecationWarning: The 'categorical_features' keyword is deprecated in version 0.20 and will be removed in 0.22. You can use the ColumnTransformer instead.\n",
      "  \"use the ColumnTransformer instead.\", DeprecationWarning)\n"
     ]
    }
   ],
   "source": [
    "X = onehotencoder.fit_transform(X).toarray()"
   ]
  },
  {
   "cell_type": "code",
   "execution_count": 23,
   "metadata": {},
   "outputs": [
    {
     "name": "stdout",
     "output_type": "stream",
     "text": [
      "[[0.0000000e+00 0.0000000e+00 6.1900000e+02 ... 1.0000000e+00\n",
      "  1.0000000e+00 1.0134888e+05]\n",
      " [0.0000000e+00 1.0000000e+00 6.0800000e+02 ... 0.0000000e+00\n",
      "  1.0000000e+00 1.1254258e+05]\n",
      " [0.0000000e+00 0.0000000e+00 5.0200000e+02 ... 1.0000000e+00\n",
      "  0.0000000e+00 1.1393157e+05]\n",
      " ...\n",
      " [0.0000000e+00 0.0000000e+00 7.0900000e+02 ... 0.0000000e+00\n",
      "  1.0000000e+00 4.2085580e+04]\n",
      " [1.0000000e+00 0.0000000e+00 7.7200000e+02 ... 1.0000000e+00\n",
      "  0.0000000e+00 9.2888520e+04]\n",
      " [0.0000000e+00 0.0000000e+00 7.9200000e+02 ... 1.0000000e+00\n",
      "  0.0000000e+00 3.8190780e+04]]\n"
     ]
    }
   ],
   "source": [
    "print(X)"
   ]
  },
  {
   "cell_type": "code",
   "execution_count": 22,
   "metadata": {},
   "outputs": [],
   "source": [
    "X = X [:, 1:]"
   ]
  },
  {
   "cell_type": "code",
   "execution_count": 25,
   "metadata": {},
   "outputs": [],
   "source": [
    "from sklearn.model_selection import train_test_split\n",
    "X_train, X_test, Y_train, Y_test = train_test_split(X, Y, test_size = 0.2, random_state = 0)\n"
   ]
  },
  {
   "cell_type": "code",
   "execution_count": 26,
   "metadata": {},
   "outputs": [],
   "source": [
    "from sklearn.preprocessing import StandardScaler\n",
    "sc = StandardScaler()\n",
    "X_train = sc.fit_transform(X_train)\n",
    "X_test = sc.transform(X_test)\n"
   ]
  },
  {
   "cell_type": "code",
   "execution_count": 28,
   "metadata": {},
   "outputs": [],
   "source": [
    "import keras\n",
    "from keras.models import Sequential\n",
    "from keras.layers import Dense"
   ]
  },
  {
   "cell_type": "code",
   "execution_count": 29,
   "metadata": {},
   "outputs": [],
   "source": [
    "classifier = Sequential()"
   ]
  },
  {
   "cell_type": "code",
   "execution_count": 31,
   "metadata": {},
   "outputs": [
    {
     "name": "stderr",
     "output_type": "stream",
     "text": [
      "/home/quarantinex/.local/lib/python3.6/site-packages/ipykernel_launcher.py:1: UserWarning: Update your `Dense` call to the Keras 2 API: `Dense(activation=\"relu\", input_dim=11, units=6, kernel_initializer=\"uniform\")`\n",
      "  \"\"\"Entry point for launching an IPython kernel.\n"
     ]
    }
   ],
   "source": [
    "classifier.add(Dense(output_dim = 6, init = 'uniform', activation = 'relu', input_dim = 11))"
   ]
  },
  {
   "cell_type": "code",
   "execution_count": 32,
   "metadata": {},
   "outputs": [
    {
     "name": "stderr",
     "output_type": "stream",
     "text": [
      "/home/quarantinex/.local/lib/python3.6/site-packages/ipykernel_launcher.py:1: UserWarning: Update your `Dense` call to the Keras 2 API: `Dense(activation=\"relu\", units=6, kernel_initializer=\"uniform\")`\n",
      "  \"\"\"Entry point for launching an IPython kernel.\n"
     ]
    }
   ],
   "source": [
    "classifier.add(Dense(output_dim = 6, init = 'uniform', activation = 'relu'))"
   ]
  },
  {
   "cell_type": "code",
   "execution_count": 33,
   "metadata": {},
   "outputs": [
    {
     "name": "stderr",
     "output_type": "stream",
     "text": [
      "/home/quarantinex/.local/lib/python3.6/site-packages/ipykernel_launcher.py:1: UserWarning: Update your `Dense` call to the Keras 2 API: `Dense(activation=\"sigmoid\", units=1, kernel_initializer=\"uniform\")`\n",
      "  \"\"\"Entry point for launching an IPython kernel.\n"
     ]
    }
   ],
   "source": [
    "classifier.add(Dense(output_dim = 1, init = 'uniform', activation = 'sigmoid'))"
   ]
  },
  {
   "cell_type": "code",
   "execution_count": 34,
   "metadata": {},
   "outputs": [],
   "source": [
    "classifier.compile(optimizer='adam',  loss='binary_crossentropy', metrics=['accuracy'])"
   ]
  },
  {
   "cell_type": "code",
   "execution_count": 36,
   "metadata": {},
   "outputs": [
    {
     "name": "stdout",
     "output_type": "stream",
     "text": [
      "Epoch 1/100\n",
      "8000/8000 [==============================] - 1s 80us/step - loss: 0.4035 - acc: 0.8351\n",
      "Epoch 2/100\n",
      "8000/8000 [==============================] - 1s 75us/step - loss: 0.4032 - acc: 0.8361\n",
      "Epoch 3/100\n",
      "8000/8000 [==============================] - 1s 92us/step - loss: 0.4028 - acc: 0.8345\n",
      "Epoch 4/100\n",
      "8000/8000 [==============================] - 1s 86us/step - loss: 0.4024 - acc: 0.8367\n",
      "Epoch 5/100\n",
      "8000/8000 [==============================] - 1s 73us/step - loss: 0.4026 - acc: 0.8350\n",
      "Epoch 6/100\n",
      "8000/8000 [==============================] - 1s 77us/step - loss: 0.4020 - acc: 0.8364\n",
      "Epoch 7/100\n",
      "8000/8000 [==============================] - 1s 78us/step - loss: 0.4023 - acc: 0.8340\n",
      "Epoch 8/100\n",
      "8000/8000 [==============================] - 1s 76us/step - loss: 0.4023 - acc: 0.8361\n",
      "Epoch 9/100\n",
      "8000/8000 [==============================] - 1s 86us/step - loss: 0.4016 - acc: 0.8361\n",
      "Epoch 10/100\n",
      "8000/8000 [==============================] - 1s 85us/step - loss: 0.4020 - acc: 0.8344\n",
      "Epoch 11/100\n",
      "8000/8000 [==============================] - 1s 112us/step - loss: 0.4019 - acc: 0.8357\n",
      "Epoch 12/100\n",
      "8000/8000 [==============================] - 1s 110us/step - loss: 0.4013 - acc: 0.8365\n",
      "Epoch 13/100\n",
      "8000/8000 [==============================] - 1s 95us/step - loss: 0.4014 - acc: 0.8361\n",
      "Epoch 14/100\n",
      "8000/8000 [==============================] - 1s 117us/step - loss: 0.4008 - acc: 0.8345\n",
      "Epoch 15/100\n",
      "8000/8000 [==============================] - 1s 108us/step - loss: 0.4019 - acc: 0.8361\n",
      "Epoch 16/100\n",
      "8000/8000 [==============================] - 1s 102us/step - loss: 0.4009 - acc: 0.8347\n",
      "Epoch 17/100\n",
      "8000/8000 [==============================] - 1s 99us/step - loss: 0.4016 - acc: 0.8359\n",
      "Epoch 18/100\n",
      "8000/8000 [==============================] - 1s 98us/step - loss: 0.4008 - acc: 0.8357\n",
      "Epoch 19/100\n",
      "8000/8000 [==============================] - 1s 95us/step - loss: 0.4016 - acc: 0.8331\n",
      "Epoch 20/100\n",
      "8000/8000 [==============================] - 1s 99us/step - loss: 0.4010 - acc: 0.8355\n",
      "Epoch 21/100\n",
      "8000/8000 [==============================] - 1s 102us/step - loss: 0.4008 - acc: 0.8349\n",
      "Epoch 22/100\n",
      "8000/8000 [==============================] - 1s 102us/step - loss: 0.4015 - acc: 0.8349\n",
      "Epoch 23/100\n",
      "8000/8000 [==============================] - 1s 98us/step - loss: 0.4002 - acc: 0.8341\n",
      "Epoch 24/100\n",
      "8000/8000 [==============================] - 1s 99us/step - loss: 0.4004 - acc: 0.8355\n",
      "Epoch 25/100\n",
      "8000/8000 [==============================] - 1s 124us/step - loss: 0.4010 - acc: 0.8350\n",
      "Epoch 26/100\n",
      "8000/8000 [==============================] - 1s 114us/step - loss: 0.3996 - acc: 0.8362\n",
      "Epoch 27/100\n",
      "8000/8000 [==============================] - 1s 107us/step - loss: 0.4007 - acc: 0.8362\n",
      "Epoch 28/100\n",
      "8000/8000 [==============================] - 1s 98us/step - loss: 0.4010 - acc: 0.8370\n",
      "Epoch 29/100\n",
      "8000/8000 [==============================] - 1s 99us/step - loss: 0.4002 - acc: 0.8337\n",
      "Epoch 30/100\n",
      "8000/8000 [==============================] - 1s 108us/step - loss: 0.4011 - acc: 0.8352\n",
      "Epoch 31/100\n",
      "8000/8000 [==============================] - 1s 119us/step - loss: 0.4003 - acc: 0.8347\n",
      "Epoch 32/100\n",
      "8000/8000 [==============================] - 1s 115us/step - loss: 0.3999 - acc: 0.8345\n",
      "Epoch 33/100\n",
      "8000/8000 [==============================] - 1s 131us/step - loss: 0.4006 - acc: 0.8356\n",
      "Epoch 34/100\n",
      "8000/8000 [==============================] - 1s 115us/step - loss: 0.4001 - acc: 0.8355\n",
      "Epoch 35/100\n",
      "8000/8000 [==============================] - 1s 108us/step - loss: 0.4004 - acc: 0.8364\n",
      "Epoch 36/100\n",
      "8000/8000 [==============================] - 1s 105us/step - loss: 0.4011 - acc: 0.8352\n",
      "Epoch 37/100\n",
      "8000/8000 [==============================] - 1s 100us/step - loss: 0.4004 - acc: 0.8356\n",
      "Epoch 38/100\n",
      "8000/8000 [==============================] - 1s 106us/step - loss: 0.3997 - acc: 0.8350\n",
      "Epoch 39/100\n",
      "8000/8000 [==============================] - 1s 95us/step - loss: 0.3998 - acc: 0.8359\n",
      "Epoch 40/100\n",
      "8000/8000 [==============================] - 1s 119us/step - loss: 0.3996 - acc: 0.8342\n",
      "Epoch 41/100\n",
      "8000/8000 [==============================] - 1s 100us/step - loss: 0.4002 - acc: 0.8371\n",
      "Epoch 42/100\n",
      "8000/8000 [==============================] - 1s 101us/step - loss: 0.4000 - acc: 0.8344\n",
      "Epoch 43/100\n",
      "8000/8000 [==============================] - 1s 100us/step - loss: 0.3999 - acc: 0.8355\n",
      "Epoch 44/100\n",
      "8000/8000 [==============================] - 1s 101us/step - loss: 0.3996 - acc: 0.8341\n",
      "Epoch 45/100\n",
      "8000/8000 [==============================] - 1s 101us/step - loss: 0.3997 - acc: 0.8350\n",
      "Epoch 46/100\n",
      "8000/8000 [==============================] - 1s 101us/step - loss: 0.4003 - acc: 0.8324\n",
      "Epoch 47/100\n",
      "8000/8000 [==============================] - 1s 120us/step - loss: 0.3996 - acc: 0.8360\n",
      "Epoch 48/100\n",
      "8000/8000 [==============================] - 1s 126us/step - loss: 0.3995 - acc: 0.8344\n",
      "Epoch 49/100\n",
      "8000/8000 [==============================] - 1s 129us/step - loss: 0.4001 - acc: 0.8341\n",
      "Epoch 50/100\n",
      "8000/8000 [==============================] - 1s 117us/step - loss: 0.3996 - acc: 0.8352\n",
      "Epoch 51/100\n",
      "8000/8000 [==============================] - 1s 101us/step - loss: 0.3998 - acc: 0.8366\n",
      "Epoch 52/100\n",
      "8000/8000 [==============================] - 1s 102us/step - loss: 0.3996 - acc: 0.8360\n",
      "Epoch 53/100\n",
      "8000/8000 [==============================] - 1s 103us/step - loss: 0.4000 - acc: 0.8354\n",
      "Epoch 54/100\n",
      "8000/8000 [==============================] - 1s 108us/step - loss: 0.3997 - acc: 0.8369\n",
      "Epoch 55/100\n",
      "8000/8000 [==============================] - 1s 118us/step - loss: 0.3999 - acc: 0.8344\n",
      "Epoch 56/100\n",
      "8000/8000 [==============================] - 1s 119us/step - loss: 0.3997 - acc: 0.8342\n",
      "Epoch 57/100\n",
      "8000/8000 [==============================] - 1s 102us/step - loss: 0.3996 - acc: 0.8340\n",
      "Epoch 58/100\n",
      "8000/8000 [==============================] - 1s 106us/step - loss: 0.3996 - acc: 0.8347\n",
      "Epoch 59/100\n",
      "8000/8000 [==============================] - 1s 103us/step - loss: 0.3989 - acc: 0.8359\n",
      "Epoch 60/100\n",
      "8000/8000 [==============================] - 1s 117us/step - loss: 0.3992 - acc: 0.8347\n",
      "Epoch 61/100\n",
      "8000/8000 [==============================] - 1s 94us/step - loss: 0.3998 - acc: 0.8346\n",
      "Epoch 62/100\n",
      "8000/8000 [==============================] - 1s 94us/step - loss: 0.3989 - acc: 0.8362\n",
      "Epoch 63/100\n",
      "8000/8000 [==============================] - 1s 97us/step - loss: 0.3986 - acc: 0.8352\n",
      "Epoch 64/100\n",
      "8000/8000 [==============================] - 1s 111us/step - loss: 0.3984 - acc: 0.8364\n",
      "Epoch 65/100\n",
      "8000/8000 [==============================] - 1s 118us/step - loss: 0.3980 - acc: 0.8356\n",
      "Epoch 66/100\n",
      "8000/8000 [==============================] - 1s 115us/step - loss: 0.3979 - acc: 0.8364\n",
      "Epoch 67/100\n",
      "8000/8000 [==============================] - 1s 114us/step - loss: 0.3983 - acc: 0.8349\n",
      "Epoch 68/100\n",
      "8000/8000 [==============================] - 1s 115us/step - loss: 0.3969 - acc: 0.8356\n",
      "Epoch 69/100\n",
      "8000/8000 [==============================] - 1s 107us/step - loss: 0.3975 - acc: 0.8346\n",
      "Epoch 70/100\n",
      "8000/8000 [==============================] - 1s 106us/step - loss: 0.3964 - acc: 0.8352\n",
      "Epoch 71/100\n",
      "8000/8000 [==============================] - 1s 101us/step - loss: 0.3972 - acc: 0.8347\n",
      "Epoch 72/100\n",
      "8000/8000 [==============================] - 1s 100us/step - loss: 0.3963 - acc: 0.8355\n",
      "Epoch 73/100\n",
      "8000/8000 [==============================] - 1s 101us/step - loss: 0.3970 - acc: 0.8362\n",
      "Epoch 74/100\n",
      "8000/8000 [==============================] - 1s 97us/step - loss: 0.3966 - acc: 0.8349\n",
      "Epoch 75/100\n",
      "8000/8000 [==============================] - 1s 101us/step - loss: 0.3962 - acc: 0.8351\n",
      "Epoch 76/100\n",
      "8000/8000 [==============================] - 1s 106us/step - loss: 0.3957 - acc: 0.8362\n",
      "Epoch 77/100\n",
      "8000/8000 [==============================] - 1s 96us/step - loss: 0.3957 - acc: 0.8346\n",
      "Epoch 78/100\n",
      "8000/8000 [==============================] - 1s 96us/step - loss: 0.3963 - acc: 0.8350\n",
      "Epoch 79/100\n",
      "8000/8000 [==============================] - 1s 101us/step - loss: 0.3960 - acc: 0.8364\n",
      "Epoch 80/100\n",
      "8000/8000 [==============================] - 1s 100us/step - loss: 0.3957 - acc: 0.8337\n",
      "Epoch 81/100\n",
      "8000/8000 [==============================] - 1s 99us/step - loss: 0.3958 - acc: 0.8359\n",
      "Epoch 82/100\n"
     ]
    },
    {
     "name": "stdout",
     "output_type": "stream",
     "text": [
      "8000/8000 [==============================] - 1s 96us/step - loss: 0.3954 - acc: 0.8362\n",
      "Epoch 83/100\n",
      "8000/8000 [==============================] - 1s 94us/step - loss: 0.3945 - acc: 0.8362\n",
      "Epoch 84/100\n",
      "8000/8000 [==============================] - 1s 95us/step - loss: 0.3957 - acc: 0.8364\n",
      "Epoch 85/100\n",
      "8000/8000 [==============================] - 1s 114us/step - loss: 0.3947 - acc: 0.8376\n",
      "Epoch 86/100\n",
      "8000/8000 [==============================] - 1s 104us/step - loss: 0.3949 - acc: 0.8364\n",
      "Epoch 87/100\n",
      "8000/8000 [==============================] - 1s 101us/step - loss: 0.3946 - acc: 0.8350\n",
      "Epoch 88/100\n",
      "8000/8000 [==============================] - 1s 107us/step - loss: 0.3945 - acc: 0.8359\n",
      "Epoch 89/100\n",
      "8000/8000 [==============================] - 1s 106us/step - loss: 0.3951 - acc: 0.8371\n",
      "Epoch 90/100\n",
      "8000/8000 [==============================] - 1s 99us/step - loss: 0.3943 - acc: 0.8370\n",
      "Epoch 91/100\n",
      "8000/8000 [==============================] - 1s 101us/step - loss: 0.3944 - acc: 0.8360\n",
      "Epoch 92/100\n",
      "8000/8000 [==============================] - 1s 108us/step - loss: 0.3939 - acc: 0.8374\n",
      "Epoch 93/100\n",
      "8000/8000 [==============================] - 1s 113us/step - loss: 0.3939 - acc: 0.8364\n",
      "Epoch 94/100\n",
      "8000/8000 [==============================] - 1s 114us/step - loss: 0.3932 - acc: 0.8345\n",
      "Epoch 95/100\n",
      "8000/8000 [==============================] - 1s 110us/step - loss: 0.3933 - acc: 0.8367\n",
      "Epoch 96/100\n",
      "8000/8000 [==============================] - 1s 112us/step - loss: 0.3933 - acc: 0.8364\n",
      "Epoch 97/100\n",
      "8000/8000 [==============================] - 1s 105us/step - loss: 0.3932 - acc: 0.8350\n",
      "Epoch 98/100\n",
      "8000/8000 [==============================] - 1s 105us/step - loss: 0.3924 - acc: 0.8360\n",
      "Epoch 99/100\n",
      "8000/8000 [==============================] - 1s 104us/step - loss: 0.3914 - acc: 0.8386\n",
      "Epoch 100/100\n",
      "8000/8000 [==============================] - 1s 100us/step - loss: 0.3906 - acc: 0.8371\n"
     ]
    },
    {
     "data": {
      "text/plain": [
       "<keras.callbacks.History at 0x7f30a0507e48>"
      ]
     },
     "execution_count": 36,
     "metadata": {},
     "output_type": "execute_result"
    }
   ],
   "source": [
    "classifier.fit(X_train, Y_train, batch_size=10, epochs=100)"
   ]
  },
  {
   "cell_type": "code",
   "execution_count": 37,
   "metadata": {},
   "outputs": [],
   "source": [
    "Y_pred = classifier.predict(X_test)"
   ]
  },
  {
   "cell_type": "code",
   "execution_count": 39,
   "metadata": {},
   "outputs": [],
   "source": [
    "Y_pred = (Y_pred > 0.5)"
   ]
  },
  {
   "cell_type": "code",
   "execution_count": 41,
   "metadata": {},
   "outputs": [],
   "source": [
    "from sklearn.metrics import confusion_matrix\n",
    "cm = confusion_matrix(Y_test, Y_pred)"
   ]
  },
  {
   "cell_type": "code",
   "execution_count": 42,
   "metadata": {},
   "outputs": [
    {
     "name": "stdout",
     "output_type": "stream",
     "text": [
      "[[1534   61]\n",
      " [ 248  157]]\n"
     ]
    }
   ],
   "source": [
    "print(cm)"
   ]
  },
  {
   "cell_type": "code",
   "execution_count": 43,
   "metadata": {},
   "outputs": [
    {
     "data": {
      "text/plain": [
       "0.8455"
      ]
     },
     "execution_count": 43,
     "metadata": {},
     "output_type": "execute_result"
    }
   ],
   "source": [
    "(1534+157)/2000"
   ]
  }
 ],
 "metadata": {
  "kernelspec": {
   "display_name": "Python 3",
   "language": "python",
   "name": "python3"
  },
  "language_info": {
   "codemirror_mode": {
    "name": "ipython",
    "version": 3
   },
   "file_extension": ".py",
   "mimetype": "text/x-python",
   "name": "python",
   "nbconvert_exporter": "python",
   "pygments_lexer": "ipython3",
   "version": "3.6.8"
  }
 },
 "nbformat": 4,
 "nbformat_minor": 2
}
